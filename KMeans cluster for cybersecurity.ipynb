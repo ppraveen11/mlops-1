{
 "cells": [
  {
   "cell_type": "code",
   "execution_count": 59,
   "id": "41f59b35",
   "metadata": {},
   "outputs": [],
   "source": [
    "import sklearn\n",
    "from sklearn.decomposition import TruncatedSVD #TRUNcated is version of svd  comperssion\n",
    "from sklearn.feature_extraction.text import CountVectorizer\n",
    "from sklearn.cluster import KMeans\n",
    "from sklearn.preprocessing  import Normalizer\n",
    "import pandas as pd\n",
    "import numpy as np"
   ]
  },
  {
   "cell_type": "code",
   "execution_count": 60,
   "id": "7aa15655",
   "metadata": {},
   "outputs": [],
   "source": [
    "#create data set"
   ]
  },
  {
   "cell_type": "code",
   "execution_count": 61,
   "id": "4adba6d1",
   "metadata": {},
   "outputs": [],
   "source": [
    "ds = [ \" cyber security is super fun \" ,\n",
    "       \" sklearn is super cool \" ,\n",
    "       \" meachine learning is fun \" ,\n",
    "       \" cyber security is cool, too \",\n",
    "       \" mechine learning is fun for cyber security\" ,\n",
    "       \" python is great for mechine learning \" ,\n",
    "       \" i like karate \" ,\n",
    "        \" soccer is greate to watch\" ]\n",
    "\n",
    "#\"cyber security is super fun \" as feature vector lets keep on tack (  \"cyber\" ,\"security\" ,\"is\" ,\"super\" , \"fun\" ) these \n",
    "# sentences in left of of data \n",
    "\n"
   ]
  },
  {
   "cell_type": "code",
   "execution_count": 62,
   "id": "994e9df4",
   "metadata": {},
   "outputs": [],
   "source": [
    "#create a vectorizer"
   ]
  },
  {
   "cell_type": "code",
   "execution_count": 63,
   "id": "f3f16b9c",
   "metadata": {},
   "outputs": [],
   "source": [
    "vectorizer = CountVectorizer(min_df = 1 , stop_words  = 'english') \n",
    "\n",
    "#the min no.of times that word apper in the document, \n",
    "##so every word should apper at least one in one document or sentences (min_df = 1  )\n",
    "#then remove stop words , stop word are words that are very comman so that they dont provide an value like (\"the\" , \"a\")"
   ]
  },
  {
   "cell_type": "code",
   "execution_count": 64,
   "id": "1a2ab7c4",
   "metadata": {},
   "outputs": [
    {
     "data": {
      "text/plain": [
       "CountVectorizer(stop_words='english')"
      ]
     },
     "execution_count": 64,
     "metadata": {},
     "output_type": "execute_result"
    }
   ],
   "source": [
    "vectorizer"
   ]
  },
  {
   "cell_type": "code",
   "execution_count": 65,
   "id": "7adffd0b",
   "metadata": {},
   "outputs": [],
   "source": [
    "#Now apply vectorrizer to the dataset"
   ]
  },
  {
   "cell_type": "code",
   "execution_count": 66,
   "id": "2ab27bfa",
   "metadata": {},
   "outputs": [],
   "source": [
    "ds_vec = vectorizer.fit_transform(ds)"
   ]
  },
  {
   "cell_type": "code",
   "execution_count": 67,
   "id": "f6d0fdfa",
   "metadata": {},
   "outputs": [
    {
     "data": {
      "text/plain": [
       "<8x16 sparse matrix of type '<class 'numpy.int64'>'\n",
       "\twith 27 stored elements in Compressed Sparse Row format>"
      ]
     },
     "execution_count": 67,
     "metadata": {},
     "output_type": "execute_result"
    }
   ],
   "source": [
    "ds_vec"
   ]
  },
  {
   "cell_type": "code",
   "execution_count": 68,
   "id": "b99518c7",
   "metadata": {},
   "outputs": [
    {
     "data": {
      "text/html": [
       "<div>\n",
       "<style scoped>\n",
       "    .dataframe tbody tr th:only-of-type {\n",
       "        vertical-align: middle;\n",
       "    }\n",
       "\n",
       "    .dataframe tbody tr th {\n",
       "        vertical-align: top;\n",
       "    }\n",
       "\n",
       "    .dataframe thead th {\n",
       "        text-align: right;\n",
       "    }\n",
       "</style>\n",
       "<table border=\"1\" class=\"dataframe\">\n",
       "  <thead>\n",
       "    <tr style=\"text-align: right;\">\n",
       "      <th></th>\n",
       "      <th>cool</th>\n",
       "      <th>cyber</th>\n",
       "      <th>fun</th>\n",
       "      <th>great</th>\n",
       "      <th>greate</th>\n",
       "      <th>karate</th>\n",
       "      <th>learning</th>\n",
       "      <th>like</th>\n",
       "      <th>meachine</th>\n",
       "      <th>mechine</th>\n",
       "      <th>python</th>\n",
       "      <th>security</th>\n",
       "      <th>sklearn</th>\n",
       "      <th>soccer</th>\n",
       "      <th>super</th>\n",
       "      <th>watch</th>\n",
       "    </tr>\n",
       "  </thead>\n",
       "  <tbody>\n",
       "    <tr>\n",
       "      <th>cyber security is super fun</th>\n",
       "      <td>0</td>\n",
       "      <td>1</td>\n",
       "      <td>1</td>\n",
       "      <td>0</td>\n",
       "      <td>0</td>\n",
       "      <td>0</td>\n",
       "      <td>0</td>\n",
       "      <td>0</td>\n",
       "      <td>0</td>\n",
       "      <td>0</td>\n",
       "      <td>0</td>\n",
       "      <td>1</td>\n",
       "      <td>0</td>\n",
       "      <td>0</td>\n",
       "      <td>1</td>\n",
       "      <td>0</td>\n",
       "    </tr>\n",
       "    <tr>\n",
       "      <th>sklearn is super cool</th>\n",
       "      <td>1</td>\n",
       "      <td>0</td>\n",
       "      <td>0</td>\n",
       "      <td>0</td>\n",
       "      <td>0</td>\n",
       "      <td>0</td>\n",
       "      <td>0</td>\n",
       "      <td>0</td>\n",
       "      <td>0</td>\n",
       "      <td>0</td>\n",
       "      <td>0</td>\n",
       "      <td>0</td>\n",
       "      <td>1</td>\n",
       "      <td>0</td>\n",
       "      <td>1</td>\n",
       "      <td>0</td>\n",
       "    </tr>\n",
       "    <tr>\n",
       "      <th>meachine learning is fun</th>\n",
       "      <td>0</td>\n",
       "      <td>0</td>\n",
       "      <td>1</td>\n",
       "      <td>0</td>\n",
       "      <td>0</td>\n",
       "      <td>0</td>\n",
       "      <td>1</td>\n",
       "      <td>0</td>\n",
       "      <td>1</td>\n",
       "      <td>0</td>\n",
       "      <td>0</td>\n",
       "      <td>0</td>\n",
       "      <td>0</td>\n",
       "      <td>0</td>\n",
       "      <td>0</td>\n",
       "      <td>0</td>\n",
       "    </tr>\n",
       "    <tr>\n",
       "      <th>cyber security is cool, too</th>\n",
       "      <td>1</td>\n",
       "      <td>1</td>\n",
       "      <td>0</td>\n",
       "      <td>0</td>\n",
       "      <td>0</td>\n",
       "      <td>0</td>\n",
       "      <td>0</td>\n",
       "      <td>0</td>\n",
       "      <td>0</td>\n",
       "      <td>0</td>\n",
       "      <td>0</td>\n",
       "      <td>1</td>\n",
       "      <td>0</td>\n",
       "      <td>0</td>\n",
       "      <td>0</td>\n",
       "      <td>0</td>\n",
       "    </tr>\n",
       "    <tr>\n",
       "      <th>mechine learning is fun for cyber security</th>\n",
       "      <td>0</td>\n",
       "      <td>1</td>\n",
       "      <td>1</td>\n",
       "      <td>0</td>\n",
       "      <td>0</td>\n",
       "      <td>0</td>\n",
       "      <td>1</td>\n",
       "      <td>0</td>\n",
       "      <td>0</td>\n",
       "      <td>1</td>\n",
       "      <td>0</td>\n",
       "      <td>1</td>\n",
       "      <td>0</td>\n",
       "      <td>0</td>\n",
       "      <td>0</td>\n",
       "      <td>0</td>\n",
       "    </tr>\n",
       "    <tr>\n",
       "      <th>python is great for mechine learning</th>\n",
       "      <td>0</td>\n",
       "      <td>0</td>\n",
       "      <td>0</td>\n",
       "      <td>1</td>\n",
       "      <td>0</td>\n",
       "      <td>0</td>\n",
       "      <td>1</td>\n",
       "      <td>0</td>\n",
       "      <td>0</td>\n",
       "      <td>1</td>\n",
       "      <td>1</td>\n",
       "      <td>0</td>\n",
       "      <td>0</td>\n",
       "      <td>0</td>\n",
       "      <td>0</td>\n",
       "      <td>0</td>\n",
       "    </tr>\n",
       "    <tr>\n",
       "      <th>i like karate</th>\n",
       "      <td>0</td>\n",
       "      <td>0</td>\n",
       "      <td>0</td>\n",
       "      <td>0</td>\n",
       "      <td>0</td>\n",
       "      <td>1</td>\n",
       "      <td>0</td>\n",
       "      <td>1</td>\n",
       "      <td>0</td>\n",
       "      <td>0</td>\n",
       "      <td>0</td>\n",
       "      <td>0</td>\n",
       "      <td>0</td>\n",
       "      <td>0</td>\n",
       "      <td>0</td>\n",
       "      <td>0</td>\n",
       "    </tr>\n",
       "    <tr>\n",
       "      <th>soccer is greate to watch</th>\n",
       "      <td>0</td>\n",
       "      <td>0</td>\n",
       "      <td>0</td>\n",
       "      <td>0</td>\n",
       "      <td>1</td>\n",
       "      <td>0</td>\n",
       "      <td>0</td>\n",
       "      <td>0</td>\n",
       "      <td>0</td>\n",
       "      <td>0</td>\n",
       "      <td>0</td>\n",
       "      <td>0</td>\n",
       "      <td>0</td>\n",
       "      <td>1</td>\n",
       "      <td>0</td>\n",
       "      <td>1</td>\n",
       "    </tr>\n",
       "  </tbody>\n",
       "</table>\n",
       "</div>"
      ],
      "text/plain": [
       "                                             cool  cyber  fun  great  greate  \\\n",
       " cyber security is super fun                    0      1    1      0       0   \n",
       " sklearn is super cool                          1      0    0      0       0   \n",
       " meachine learning is fun                       0      0    1      0       0   \n",
       " cyber security is cool, too                    1      1    0      0       0   \n",
       " mechine learning is fun for cyber security     0      1    1      0       0   \n",
       " python is great for mechine learning           0      0    0      1       0   \n",
       " i like karate                                  0      0    0      0       0   \n",
       " soccer is greate to watch                      0      0    0      0       1   \n",
       "\n",
       "                                             karate  learning  like  meachine  \\\n",
       " cyber security is super fun                      0         0     0         0   \n",
       " sklearn is super cool                            0         0     0         0   \n",
       " meachine learning is fun                         0         1     0         1   \n",
       " cyber security is cool, too                      0         0     0         0   \n",
       " mechine learning is fun for cyber security       0         1     0         0   \n",
       " python is great for mechine learning             0         1     0         0   \n",
       " i like karate                                    1         0     1         0   \n",
       " soccer is greate to watch                        0         0     0         0   \n",
       "\n",
       "                                             mechine  python  security  \\\n",
       " cyber security is super fun                       0       0         1   \n",
       " sklearn is super cool                             0       0         0   \n",
       " meachine learning is fun                          0       0         0   \n",
       " cyber security is cool, too                       0       0         1   \n",
       " mechine learning is fun for cyber security        1       0         1   \n",
       " python is great for mechine learning              1       1         0   \n",
       " i like karate                                     0       0         0   \n",
       " soccer is greate to watch                         0       0         0   \n",
       "\n",
       "                                             sklearn  soccer  super  watch  \n",
       " cyber security is super fun                       0       0      1      0  \n",
       " sklearn is super cool                             1       0      1      0  \n",
       " meachine learning is fun                          0       0      0      0  \n",
       " cyber security is cool, too                       0       0      0      0  \n",
       " mechine learning is fun for cyber security        0       0      0      0  \n",
       " python is great for mechine learning              0       0      0      0  \n",
       " i like karate                                     0       0      0      0  \n",
       " soccer is greate to watch                         0       1      0      1  "
      ]
     },
     "execution_count": 68,
     "metadata": {},
     "output_type": "execute_result"
    }
   ],
   "source": [
    "pd.DataFrame(ds_vec.toarray() , index= ds , columns = vectorizer.get_feature_names()).head(10) "
   ]
  },
  {
   "cell_type": "code",
   "execution_count": 69,
   "id": "30cce388",
   "metadata": {},
   "outputs": [],
   "source": [
    "#lets compress the features\n",
    "# compressing the 15 - 16 fetures in date into just 2 features \n",
    "#trancated fuc is useful to convert the feature data"
   ]
  },
  {
   "cell_type": "code",
   "execution_count": 70,
   "id": "cdbe3796",
   "metadata": {},
   "outputs": [],
   "source": [
    "compress_svd = TruncatedSVD(2)\n",
    "#lets applay trancated fuc into data\n",
    "ds_compress = compress_svd.fit_transform(ds_vec)\n",
    "ds_norm = Normalizer(copy=False).fit_transform(ds_compress )"
   ]
  },
  {
   "cell_type": "code",
   "execution_count": 71,
   "id": "9aab6f04",
   "metadata": {},
   "outputs": [
    {
     "data": {
      "text/plain": [
       "array([[ 0.88924161, -0.45743781],\n",
       "       [ 0.40696513, -0.9134437 ],\n",
       "       [ 0.80743537,  0.58995604],\n",
       "       [ 0.77860988, -0.62750829],\n",
       "       [ 0.98424344,  0.17681871],\n",
       "       [ 0.50370992,  0.86387286],\n",
       "       [-0.26956549, -0.96298206],\n",
       "       [ 0.17468817,  0.98462381]])"
      ]
     },
     "execution_count": 71,
     "metadata": {},
     "output_type": "execute_result"
    }
   ],
   "source": [
    "ds_norm"
   ]
  },
  {
   "cell_type": "code",
   "execution_count": 73,
   "id": "42b13471",
   "metadata": {},
   "outputs": [],
   "source": [
    "#each sentences now represented by in two features "
   ]
  },
  {
   "cell_type": "code",
   "execution_count": 74,
   "id": "0d4ef45f",
   "metadata": {},
   "outputs": [],
   "source": [
    "ds_fin = pd.DataFrame(ds_norm , index = ds , columns = [\"F1\" , \"F2\" ] )"
   ]
  },
  {
   "cell_type": "code",
   "execution_count": 75,
   "id": "5ee4b858",
   "metadata": {},
   "outputs": [],
   "source": [
    "x1= [ i[0] for i  in ds_norm ]"
   ]
  },
  {
   "cell_type": "code",
   "execution_count": 76,
   "id": "ec84d276",
   "metadata": {},
   "outputs": [],
   "source": [
    "x2 = [i[1] for i in ds_norm  ] "
   ]
  },
  {
   "cell_type": "code",
   "execution_count": 77,
   "id": "5d39938c",
   "metadata": {},
   "outputs": [],
   "source": [
    "#plot the matrix"
   ]
  },
  {
   "cell_type": "code",
   "execution_count": 78,
   "id": "d87d72e5",
   "metadata": {},
   "outputs": [],
   "source": [
    "import matplotlib.pyplot as plt"
   ]
  },
  {
   "cell_type": "code",
   "execution_count": 80,
   "id": "6ada3fce",
   "metadata": {},
   "outputs": [
    {
     "data": {
      "image/png": "[encoded data removed]",
      "text/plain": [
       "<Figure size 432x288 with 1 Axes>"
      ]
     },
     "metadata": {
      "needs_background": "light"
     },
     "output_type": "display_data"
    }
   ],
   "source": [
    "plt.scatter( x1 , x2)\n",
    "plt.xlabel(\"F1\")\n",
    "plt.ylabel(\"F2\")\n",
    "plt.title(\"compressed Data\")\n",
    "plt.grid()"
   ]
  },
  {
   "cell_type": "code",
   "execution_count": null,
   "id": "8766349d",
   "metadata": {},
   "outputs": [],
   "source": [
    "#think like some dots belogs to \"malware\" -> one cluster(group of data ) and some dots are without malware -> onther cluster"
   ]
  },
  {
   "cell_type": "code",
   "execution_count": null,
   "id": "a3ca0e65",
   "metadata": {},
   "outputs": [],
   "source": [
    "#now need to apply Kmeans algorithm to discover some clusters\n",
    "#i wanted 2 clusters in (depends how deep u want to go  into data)  and \n",
    "#initialization should be random that basicly means that you know  the kMeans  clustering points on graph and \n",
    "#it picks them at random and then it starts looking for clusters untilit finds some in this case that initilization should\n",
    "#be random so , for random you wana provide some value like try 10 different random numbers when doing this cluster \n",
    "#so, its like 10 iterations basically  untile figure out some thing that seems optiimal in the algorithm \n",
    "#so , init i'm  gona set to be 10 \n",
    "# and the algorithm should run maximum iterations , i took small dataset so it doesnt need that many iterations \n",
    "# so, i m taking 300 ma iter "
   ]
  },
  {
   "cell_type": "code",
   "execution_count": 24,
   "id": "371bcf01",
   "metadata": {},
   "outputs": [],
   "source": [
    "model = KMeans(n_clusters=2 , init = 'random' , n_init = 10  , max_iter=300 ,random_state=0   )"
   ]
  },
  {
   "cell_type": "code",
   "execution_count": null,
   "id": "f44f2a10",
   "metadata": {},
   "outputs": [],
   "source": [
    "#now i have Kmeans algo  , -> it's going to take every  smaple and tells us if it belogs to one cluster or other cluster "
   ]
  },
  {
   "cell_type": "code",
   "execution_count": 27,
   "id": "39e316a0",
   "metadata": {},
   "outputs": [],
   "source": [
    "cluster = model.fit_predict(ds_compress)"
   ]
  },
  {
   "cell_type": "code",
   "execution_count": 28,
   "id": "69287830",
   "metadata": {},
   "outputs": [
    {
     "data": {
      "text/plain": [
       "array([1, 1, 0, 1, 0, 0, 0, 1])"
      ]
     },
     "execution_count": 28,
     "metadata": {},
     "output_type": "execute_result"
    }
   ],
   "source": [
    "cluster "
   ]
  },
  {
   "cell_type": "code",
   "execution_count": 29,
   "id": "335f8b2d",
   "metadata": {},
   "outputs": [],
   "source": [
    "#now these are 8 entries thant corresponds to seven sentences ( in dataset ) =>> clustered the data\n",
    "# 0 -> one cluster , 1 -> onther cluster \n",
    "#its showing most of  the data belongs to 0-cluster and left of them belongs to 1-cluster \n",
    "# lets plot"
   ]
  },
  {
   "cell_type": "code",
   "execution_count": 56,
   "id": "6f36433c",
   "metadata": {},
   "outputs": [
    {
     "data": {
      "image/png": "[encoded data removed]",
      "text/plain": [
       "<Figure size 432x288 with 1 Axes>"
      ]
     },
     "metadata": {
      "needs_background": "light"
     },
     "output_type": "display_data"
    }
   ],
   "source": [
    "#cluster 0\n",
    "\n",
    "indices_c0 = cluster == 0\n",
    "x1 = ds_compress[indices_c0,0] \n",
    "y1 = ds_compress[indices_c0,1]\n",
    "\n",
    "plt.scatter( x1 , y1 , s=50 , c =\"lightgreen\" , marker = \"s\" , label = 'cluster0')\n",
    "\n",
    "\n",
    "indices_c1 = cluster == 1\n",
    "x1 = ds_compress[indices_c1,1] \n",
    "y1 = ds_compress[indices_c1,1]\n",
    "\n",
    "plt.scatter( x1 , y1 , s=50 , c =\"orange\" , marker = \"o\" , label = 'cluster1')\n",
    "plt.grid()"
   ]
  },
  {
   "cell_type": "code",
   "execution_count": 40,
   "id": "e653fef8",
   "metadata": {},
   "outputs": [],
   "source": [
    " ds_fin =  pd.DataFrame(ds_compress , columns = ['x1' , 'y1'])"
   ]
  },
  {
   "cell_type": "code",
   "execution_count": 86,
   "id": "0af8ba4a",
   "metadata": {},
   "outputs": [
    {
     "ename": "IndexError",
     "evalue": "only integers, slices (`:`), ellipsis (`...`), numpy.newaxis (`None`) and integer or boolean arrays are valid indices",
     "output_type": "error",
     "traceback": [
      "\u001b[1;31m---------------------------------------------------------------------------\u001b[0m",
      "\u001b[1;31mIndexError\u001b[0m                                Traceback (most recent call last)",
      "\u001b[1;32m<ipython-input-86-85bcfc9adb41>\u001b[0m in \u001b[0;36m<module>\u001b[1;34m\u001b[0m\n\u001b[1;32m----> 1\u001b[1;33m \u001b[0mds_compress\u001b[0m\u001b[1;33m[\u001b[0m\u001b[1;34m\"cluster name\"\u001b[0m\u001b[1;33m]\u001b[0m \u001b[1;33m=\u001b[0m \u001b[0my_KMeans\u001b[0m\u001b[1;33m\u001b[0m\u001b[1;33m\u001b[0m\u001b[0m\n\u001b[0m",
      "\u001b[1;31mIndexError\u001b[0m: only integers, slices (`:`), ellipsis (`...`), numpy.newaxis (`None`) and integer or boolean arrays are valid indices"
     ]
    }
   ],
   "source": [
    "ds_compress[\"cluster name\"] = y_KMeans "
   ]
  },
  {
   "cell_type": "code",
   "execution_count": null,
   "id": "2c672a02",
   "metadata": {},
   "outputs": [],
   "source": []
  }
 ],
 "metadata": {
  "kernelspec": {
   "display_name": "Python 3",
   "language": "python",
   "name": "python3"
  },
  "language_info": {
   "codemirror_mode": {
    "name": "ipython",
    "version": 3
   },
   "file_extension": ".py",
   "mimetype": "text/x-python",
   "name": "python",
   "nbconvert_exporter": "python",
   "pygments_lexer": "ipython3",
   "version": "3.8.5"
  }
 },
 "nbformat": 4,
 "nbformat_minor": 5
}
